{
 "cells": [
  {
   "cell_type": "code",
   "execution_count": null,
   "metadata": {},
   "outputs": [],
   "source": [
    "!pip install vbeam"
   ]
  },
  {
   "cell_type": "markdown",
   "metadata": {},
   "source": [
    "# A visualization of the cartesian bounds of a sector scan\n",
    "You need to install these dependencies to run this notebook:\n",
    "```bash\n",
    "pip install matplotlib numpy ipywidgets\n",
    "```\n",
    "\n",
    "Run the following cell _(you can ignore most of the code, it is mostly just for drawing shapes with `matplotlib`)_ and try dragging the various sliders. It will create a `SectorScan` with the given azimuths and depths, and then draw the cartesian bounds of the scan."
   ]
  },
  {
   "cell_type": "code",
   "execution_count": 1,
   "metadata": {},
   "outputs": [
    {
     "data": {
      "image/png": "[encoded data removed]",
      "text/plain": [
       "<Figure size 300x300 with 1 Axes>"
      ]
     },
     "metadata": {},
     "output_type": "display_data"
    },
    {
     "data": {
      "application/vnd.jupyter.widget-view+json": {
       "model_id": "3d262d30b28c449681c6610fa9595fc3",
       "version_major": 2,
       "version_minor": 0
      },
      "text/plain": [
       "interactive(children=(Checkbox(value=False, description='autoscale_plot'), FloatSlider(value=-0.7, description…"
      ]
     },
     "metadata": {},
     "output_type": "display_data"
    }
   ],
   "source": [
    "import matplotlib.patches as patches\n",
    "import matplotlib.pyplot as plt\n",
    "import numpy as np\n",
    "from ipywidgets import interact\n",
    "\n",
    "from vbeam.scan import SectorScan, sector_scan\n",
    "\n",
    "\n",
    "def draw_arc(\n",
    "    ax: plt.Axes, center: np.ndarray, min_az: float, max_az: float, radius: float\n",
    "):\n",
    "    diam = radius * 2\n",
    "    theta1, theta2 = np.degrees(min_az), np.degrees(max_az)\n",
    "    arc = patches.Arc(center, diam, diam, theta1=theta1, theta2=theta2, color=\"#FF195E\")\n",
    "    ax.add_patch(arc)\n",
    "\n",
    "\n",
    "def draw_line_between(ax: plt.Axes, p1: np.ndarray, p2: np.ndarray):\n",
    "    ax.plot([p1[0], p2[0]], [p1[1], p2[1]], color=\"#FF195E\", linewidth=1)\n",
    "\n",
    "\n",
    "def draw_sector_scan(ax: plt.Axes, scan: SectorScan):\n",
    "    center = scan.apex[[0, 2]] if scan.ndim == 1 else np.array([0, 0])\n",
    "    min_az, max_az, min_depth, max_depth = scan.bounds\n",
    "\n",
    "    # Draw the inner and outer arc\n",
    "    draw_arc(ax, center, min_az, max_az, min_depth)  # Draw the inner arc\n",
    "    draw_arc(ax, center, min_az, max_az, max_depth)  # Draw the outer arc\n",
    "\n",
    "    # Draw lines between the corners of the inner and outer arcs to complete the arc.\n",
    "    min_vec = np.array([np.cos(min_az), np.sin(min_az)])\n",
    "    max_vec = np.array([np.cos(max_az), np.sin(max_az)])\n",
    "    # Plot a line from min_vec to max_vec\n",
    "    draw_line_between(ax, min_vec * min_depth + center, min_vec * max_depth + center)\n",
    "    draw_line_between(ax, max_vec * min_depth + center, max_vec * max_depth + center)\n",
    "\n",
    "\n",
    "def draw_bounds(ax: plt.Axes, scan: SectorScan):\n",
    "    bounds = scan.cartesian_bounds\n",
    "    ax.add_patch(\n",
    "        patches.Rectangle(\n",
    "            (bounds[2], bounds[0]),\n",
    "            bounds[3] - bounds[2],\n",
    "            bounds[1] - bounds[0],\n",
    "            fill=False,\n",
    "            color=\"#0085FF\",\n",
    "        )\n",
    "    )\n",
    "\n",
    "\n",
    "@interact(\n",
    "    min_azimuth=(-np.pi, np.pi, 0.01),\n",
    "    max_azimuth=(-np.pi, np.pi, 0.01),\n",
    "    min_depth=(0, 1.1, 0.01),\n",
    "    max_depth=(0, 1.1, 0.01),\n",
    ")\n",
    "def plot(\n",
    "    autoscale_plot=False, min_azimuth=-0.7, max_azimuth=0.7, min_depth=0, max_depth=1\n",
    "):\n",
    "    min_azimuth, max_azimuth = min_azimuth - np.pi / 2, max_azimuth - np.pi / 2\n",
    "    scan = sector_scan(\n",
    "        np.linspace(min_azimuth, max_azimuth, 10),\n",
    "        np.linspace(min_depth, max_depth, 10),\n",
    "    )\n",
    "\n",
    "    fig, ax = plt.subplots(figsize=(3, 3))\n",
    "    draw_bounds(ax, scan)\n",
    "    draw_sector_scan(ax, scan)\n",
    "\n",
    "    if autoscale_plot:\n",
    "        bounds = scan.cartesian_bounds\n",
    "        width = bounds[3] - bounds[2]\n",
    "        height = bounds[1] - bounds[0]\n",
    "        mid_x = (bounds[2] + bounds[3]) / 2\n",
    "        mid_y = (bounds[0] + bounds[1]) / 2\n",
    "        size = max(width, height) + 0.1\n",
    "        ax.set_xlim(mid_x - size / 2, mid_x + size / 2)\n",
    "        ax.set_ylim(mid_y - size / 2, mid_y + size / 2)\n",
    "    else:\n",
    "        ax.set_xlim(-1.1, 1.1)\n",
    "        ax.set_ylim(-1.1, 1.1)\n",
    "    title = \"Cartesian bounds of sector scan\"\n",
    "    if min_azimuth > max_azimuth:\n",
    "        title = \"Invalid scan: min_azimuth > max_azimuth\"\n",
    "    if min_depth > max_depth:\n",
    "        title = \"Invalid scan: min_depth > max_depth\"\n",
    "    ax.set_title(title)\n",
    "    fig.tight_layout()"
   ]
  }
 ],
 "metadata": {
  "kernelspec": {
   "display_name": "vbeam",
   "language": "python",
   "name": "python3"
  },
  "language_info": {
   "codemirror_mode": {
    "name": "ipython",
    "version": 3
   },
   "file_extension": ".py",
   "mimetype": "text/x-python",
   "name": "python",
   "nbconvert_exporter": "python",
   "pygments_lexer": "ipython3",
   "version": "3.10.14"
  },
  "orig_nbformat": 4
 },
 "nbformat": 4,
 "nbformat_minor": 2
}
